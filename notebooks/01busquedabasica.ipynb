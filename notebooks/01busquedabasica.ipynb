{
 "cells": [
  {
   "cell_type": "markdown",
   "id": "20980d198e5f991c",
   "metadata": {},
   "source": [
    "# Ejercicio 1: Introducción a Recuperación de Información\n",
    "\n",
    "## Objetivo de la práctica\n",
    "- Entender el problema de **buscar información** en colecciones de texto.\n",
    "- Comprender por qué se necesita un **índice invertido** en recuperación de información.\n",
    "- Programar una primera solución manual y luego optimizarla con un índice.\n",
    "- Evaluar la mejora en tiempos de búsqueda cuando usamos estructuras adecuadas."
   ]
  },
  {
   "cell_type": "markdown",
   "id": "175182ac2f1f542c",
   "metadata": {},
   "source": [
    "## Parte 1: Búsqueda lineal en documentos\n",
    "\n",
    "### Actividad\n",
    "1. Se te proporcionará un conjunto de documentos de texto.\n",
    "2. Escribe una función que:\n",
    "   - Lea todos los documentos.\n",
    "   - Busque una palabra ingresada por el usuario.\n",
    "   - Muestre en qué documentos aparece la palabra."
   ]
  },
  {
   "cell_type": "code",
   "execution_count": 8,
   "id": "d92c283c",
   "metadata": {},
   "outputs": [
    {
     "name": "stdout",
     "output_type": "stream",
     "text": [
      "\n",
      "Buscando la palabra 'Ecuador' en el archivo 'c:/Users/wil_s/Documentos/GitHub/2025A/ir25a/data/01_corpus_turismo_500.txt'...\n",
      "\n",
      "Encontrada en línea 5: Ecuador es un país megadiverso, ideal para el turismo ecológico\n",
      "Encontrada en línea 22: Ecuador es un país megadiverso, ideal para el turismo ecológico Perfecto para avistamiento de aves.\n",
      "Encontrada en línea 30: Ecuador es un país megadiverso, ideal para el turismo ecológico Ideal para el próximo feriado.\n",
      "Encontrada en línea 37: Ecuador es un país megadiverso, ideal para el turismo ecológico Perfecto para canopy.\n",
      "Encontrada en línea 41: Ecuador es un país megadiverso, ideal para el turismo ecológico Un lugar increíble para visitar.\n",
      "Encontrada en línea 45: Ecuador es un país megadiverso, ideal para el turismo ecológico Perfecto para rafting.\n",
      "Encontrada en línea 76: Ecuador es un país megadiverso, ideal para el turismo ecológico Perfecto para senderismo.\n",
      "Encontrada en línea 109: Ecuador es un país megadiverso, ideal para el turismo ecológico Ideal para el próximo feriado.\n",
      "Encontrada en línea 110: Ecuador es un país megadiverso, ideal para el turismo ecológico Ideal para el próximo feriado.\n",
      "Encontrada en línea 122: Ecuador es un país megadiverso, ideal para el turismo ecológico Una experiencia inolvidable.\n",
      "Encontrada en línea 127: Ecuador es un país megadiverso, ideal para el turismo ecológico\n",
      "Encontrada en línea 130: Ecuador es un país megadiverso, ideal para el turismo ecológico Ideal para el próximo feriado.\n",
      "Encontrada en línea 156: Ecuador es un país megadiverso, ideal para el turismo ecológico Un lugar increíble para visitar.\n",
      "Encontrada en línea 163: Ecuador es un país megadiverso, ideal para el turismo ecológico\n",
      "Encontrada en línea 168: Ecuador es un país megadiverso, ideal para el turismo ecológico Ideal para el próximo feriado.\n",
      "Encontrada en línea 200: Ecuador es un país megadiverso, ideal para el turismo ecológico Ideal para el próximo feriado.\n",
      "Encontrada en línea 225: Ecuador es un país megadiverso, ideal para el turismo ecológico Ideal para el próximo feriado.\n",
      "Encontrada en línea 231: Ecuador es un país megadiverso, ideal para el turismo ecológico Un lugar famoso para visitar.\n",
      "Encontrada en línea 246: Ecuador es un país megadiverso, ideal para el turismo ecológico\n",
      "Encontrada en línea 254: Ecuador es un país megadiverso, ideal para el turismo ecológico\n",
      "Encontrada en línea 258: Ecuador es un país megadiverso, ideal para el turismo ecológico Una experiencia inolvidable.\n",
      "Encontrada en línea 280: Ecuador es un país megadiverso, ideal para el turismo ecológico Ideal para el próximo feriado.\n",
      "Encontrada en línea 307: Ecuador es un país megadiverso, ideal para el turismo ecológico Un lugar espectacular para visitar.\n",
      "Encontrada en línea 319: Ecuador es un país megadiverso, ideal para el turismo ecológico\n",
      "Encontrada en línea 324: Ecuador es un país megadiverso, ideal para el turismo ecológico Perfecto para canopy.\n",
      "Encontrada en línea 333: Ecuador es un país megadiverso, ideal para el turismo ecológico Ideal para el próximo feriado.\n",
      "Encontrada en línea 352: Ecuador es un país megadiverso, ideal para el turismo ecológico\n",
      "Encontrada en línea 371: Ecuador es un país megadiverso, ideal para el turismo ecológico Un lugar espectacular para visitar.\n",
      "Encontrada en línea 379: Ecuador es un país megadiverso, ideal para el turismo ecológico\n",
      "Encontrada en línea 383: Ecuador es un país megadiverso, ideal para el turismo ecológico Ideal para el próximo feriado.\n",
      "Encontrada en línea 386: Ecuador es un país megadiverso, ideal para el turismo ecológico\n",
      "Encontrada en línea 442: Ecuador es un país megadiverso, ideal para el turismo ecológico\n",
      "Encontrada en línea 459: Ecuador es un país megadiverso, ideal para el turismo ecológico Ideal para el próximo feriado.\n",
      "Encontrada en línea 486: Ecuador es un país megadiverso, ideal para el turismo ecológico Perfecto para senderismo.\n",
      "Encontrada en línea 491: Ecuador es un país megadiverso, ideal para el turismo ecológico\n",
      "Encontrada en línea 492: Ecuador es un país megadiverso, ideal para el turismo ecológico Ideal para el próximo feriado.\n",
      "\n",
      "Total de ocurrencias: 36\n",
      "\n",
      "Búsqueda completada.\n"
     ]
    }
   ],
   "source": [
    "def buscar_palabra_en_corpus(archivo, palabra_buscar):\n",
    " \n",
    "    print(f\"\\nBuscando la palabra '{palabra_buscar}' en el archivo '{archivo}'...\\n\")\n",
    "    resultados = []\n",
    "\n",
    "    with open(archivo, 'r', encoding='utf-8') as file:\n",
    "        for num_linea, linea in enumerate(file, 1):  # Leer línea por línea\n",
    "            if palabra_buscar in linea:\n",
    "                resultados.append(num_linea)\n",
    "                print(f\"Encontrada en línea {num_linea}: {linea.strip()}\")\n",
    "\n",
    "    if resultados:\n",
    "        print(f\"\\nTotal de ocurrencias: {len(resultados)}\")\n",
    "    else:\n",
    "        print(f\"La palabra '{palabra_buscar}' no se encontró en el archivo.\")\n",
    "\n",
    "    print(\"\\nBúsqueda completada.\")\n",
    "    return resultados\n",
    "\n",
    "\n",
    "# Ejemplo de uso\n",
    "ARCHIVO = 'c:/Users/wil_s/Documentos/GitHub/2025A/ir25a/data/01_corpus_turismo_500.txt'\n",
    "QUERY = 'Ecuador'\n",
    "resultados = buscar_palabra_en_corpus(ARCHIVO, QUERY)"
   ]
  },
  {
   "cell_type": "markdown",
   "id": "57c9797b0bf7f4bb",
   "metadata": {},
   "source": [
    "## Parte 2: Construcción de un índice invertido\n",
    "\n",
    "### Actividad\n",
    "1. Escribe un programa que:\n",
    "   - Recorra todos los documentos.\n",
    "   - Construya un **índice invertido**, es decir, un diccionario donde:\n",
    "     - Cada palabra clave apunta a una lista de documentos donde aparece.\n",
    "\n",
    "2. Escribe una nueva función de búsqueda que:\n",
    "   - Consulte directamente el índice para encontrar los documentos relevantes.\n",
    "   - Sea mucho más rápida que la búsqueda lineal."
   ]
  },
  {
   "cell_type": "code",
   "execution_count": null,
   "id": "34e7a4522b06d969",
   "metadata": {},
   "outputs": [],
   "source": []
  },
  {
   "cell_type": "markdown",
   "id": "3f311d0944a2f98d",
   "metadata": {},
   "source": [
    "## Parte 3: Evaluación de tiempos de búsqueda\n",
    "### Actividad\n",
    "\n",
    "1. Realiza la búsqueda de varias palabras usando:\n",
    "      -  Corpus pequeño: 16 documentos (turismo en Ecuador).\n",
    "      -  Corpus grande: 500 documentos (versión ampliada).\n",
    "2. Mide el tiempo de ejecución:\n",
    "      -  Para búsqueda lineal.\n",
    "      -  Para búsqueda usando índice invertido.\n",
    "      -  Grafica o presenta los resultados en una tabla comparativa.\n",
    "\n",
    "### Ejemplo de palabras para buscar\n",
    "- quito\n",
    "- montañita\n",
    "- feriado\n",
    "- playas\n",
    "- aventura\n",
    "- galápagos"
   ]
  },
  {
   "cell_type": "code",
   "execution_count": null,
   "id": "15211fcaadfeb175",
   "metadata": {},
   "outputs": [],
   "source": []
  },
  {
   "cell_type": "markdown",
   "id": "93a841af5ef64dd7",
   "metadata": {},
   "source": [
    "## Parte 4:\n",
    "### Actividad\n",
    "1. Modifica el índice para que ignore mayúsculas/minúsculas (por ejemplo, \"Playa\" y \"playa\" deben considerarse iguales).\n",
    "2. Permite consultas de múltiples términos (ejemplo: buscar documentos que contengan \"playa\" y \"turismo\").\n",
    "3. Calcula el _speedup_"
   ]
  },
  {
   "cell_type": "code",
   "execution_count": null,
   "id": "66741cbd7ba00bb6",
   "metadata": {},
   "outputs": [],
   "source": []
  }
 ],
 "metadata": {
  "kernelspec": {
   "display_name": "Python 3",
   "language": "python",
   "name": "python3"
  },
  "language_info": {
   "codemirror_mode": {
    "name": "ipython",
    "version": 3
   },
   "file_extension": ".py",
   "mimetype": "text/x-python",
   "name": "python",
   "nbconvert_exporter": "python",
   "pygments_lexer": "ipython3",
   "version": "3.12.4"
  }
 },
 "nbformat": 4,
 "nbformat_minor": 5
}
