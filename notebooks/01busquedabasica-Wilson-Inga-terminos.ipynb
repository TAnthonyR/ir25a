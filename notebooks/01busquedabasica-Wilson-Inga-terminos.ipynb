{
 "cells": [
  {
   "cell_type": "markdown",
   "id": "d5111848",
   "metadata": {},
   "source": [
    "Nombre:  Wilson Inga\n",
    "\n",
    "# Ejercicio 2\n",
    "## ¿Cuántos términos exiten en el siguiente corpus?"
   ]
  },
  {
   "cell_type": "code",
   "execution_count": 7,
   "id": "f52eac99",
   "metadata": {},
   "outputs": [],
   "source": [
    "def contar_terminos(documento):\n",
    "    total_terminos = 0\n",
    "    with open(documento, 'r', encoding='utf-8') as file:\n",
    "        for linea in file:\n",
    "            terminos = linea.split()\n",
    "            total_terminos += len(terminos)\n",
    "\n",
    "    print(f\"\\nTotal de términos en el documento: {total_terminos}\")"
   ]
  },
  {
   "cell_type": "code",
   "execution_count": 9,
   "id": "263043bf",
   "metadata": {},
   "outputs": [
    {
     "name": "stdout",
     "output_type": "stream",
     "text": [
      "\n",
      "Total de términos en el documento: 240\n"
     ]
    }
   ],
   "source": [
    "direccion = 'c:/Users/wil_s/Documentos/GitHub/2025A/ir25a/data/01_corpus_turismo.txt'\n",
    "contar_terminos(direccion)"
   ]
  },
  {
   "cell_type": "markdown",
   "id": "9e353b0f",
   "metadata": {},
   "source": [
    "## Limpieza de datos"
   ]
  },
  {
   "cell_type": "code",
   "execution_count": null,
   "id": "c7abf63a",
   "metadata": {},
   "outputs": [],
   "source": [
    "import unicodedata\n",
    "import string\n",
    "\n",
    "def normalizar_palabra(palabra):\n",
    "    # Quitar tildes\n",
    "    palabra = unicodedata.normalize('NFD', palabra)\n",
    "    palabra = ''.join(c for c in palabra if unicodedata.category(c) != 'Mn')\n",
    "    # Quitar puntuación\n",
    "    palabra = palabra.translate(str.maketrans('', '', string.punctuation))\n",
    "    # Convertir a minúsculas\n",
    "    return palabra.lower()\n",
    "\n",
    "def contar_terminos_unicos(documento):\n",
    "    terminos_unicos = set()\n",
    "\n",
    "    with open(documento, 'r', encoding='utf-8') as file:\n",
    "        for linea in file:\n",
    "            palabras = linea.split()\n",
    "            for palabra in palabras:\n",
    "                palabra_normalizada = normalizar_palabra(palabra)\n",
    "                if palabra_normalizada:  # Evita agregar vacíos\n",
    "                    terminos_unicos.add(palabra_normalizada)\n",
    "\n",
    "    terminos_ordenados = sorted(terminos_unicos)\n",
    "    print(f\"\\nTotal de términos únicos en el documento: {len(terminos_ordenados)}\")\n",
    "    print(\"\\nTérminos únicos ordenados alfabéticamente:\\n\")\n",
    "    for termino in terminos_ordenados:\n",
    "        print(termino)\n",
    "\n",
    "    return terminos_ordenados"
   ]
  },
  {
   "cell_type": "code",
   "execution_count": null,
   "id": "b2403b74",
   "metadata": {},
   "outputs": [],
   "source": []
  },
  {
   "cell_type": "code",
   "execution_count": null,
   "id": "d5d62b35",
   "metadata": {},
   "outputs": [],
   "source": []
  }
 ],
 "metadata": {
  "kernelspec": {
   "display_name": "Python 3",
   "language": "python",
   "name": "python3"
  },
  "language_info": {
   "codemirror_mode": {
    "name": "ipython",
    "version": 3
   },
   "file_extension": ".py",
   "mimetype": "text/x-python",
   "name": "python",
   "nbconvert_exporter": "python",
   "pygments_lexer": "ipython3",
   "version": "3.12.4"
  }
 },
 "nbformat": 4,
 "nbformat_minor": 5
}
