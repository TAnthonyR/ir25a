{
 "cells": [
  {
   "cell_type": "markdown",
   "id": "d5111848",
   "metadata": {},
   "source": [
    "Nombre:  Wilson Inga\n",
    "\n",
    "# Ejercicio 2\n",
    "## ¿Cuántos términos exiten en el siguiente corpus?"
   ]
  },
  {
   "cell_type": "code",
   "execution_count": null,
   "id": "36baedd3",
   "metadata": {},
   "outputs": [],
   "source": [
    "def resultados(documento, numeroTotalTerminos):\n",
    " \n",
    "    resultados = []\n",
    "    # Abrir el archivo en modo lectura\n",
    "    with open(documento, 'r', encoding='utf-8') as file:\n",
    "        for indice, linea in enumerate(file, 1): \n",
    "            if query in linea:\n",
    "                resultados.append(indice)\n",
    "\n",
    "    if resultados:\n",
    "        print(f\"\\nTotal de ocurrencias: {len(resultados)}\")\n",
    "    else:\n",
    "        print(f\"La palabra '{query}' no se encontró en el archivo.\")\n",
    "    # Devolver la lista de resultados\n",
    "    return resultados\n",
    "\n",
    "# Definir la dirección del archivo y la palabra a buscar\n",
    "direccion = 'c:/Users/wil_s/Documentos/GitHub/2025A/ir25a/data/01_corpus_turismo.txt'\n",
    "query = 'feriado'\n",
    "busquedaPalabra = resultados(direccion, query)"
   ]
  }
 ],
 "metadata": {
  "kernelspec": {
   "display_name": "Python 3",
   "language": "python",
   "name": "python3"
  },
  "language_info": {
   "name": "python",
   "version": "3.12.4"
  }
 },
 "nbformat": 4,
 "nbformat_minor": 5
}
