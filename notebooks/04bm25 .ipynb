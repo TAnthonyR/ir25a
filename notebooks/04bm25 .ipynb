{
  "cells": [
    {
      "cell_type": "markdown",
      "id": "941741204a003f44",
      "metadata": {
        "id": "941741204a003f44"
      },
      "source": [
        "# Ejercicio 4: Modelo Probabilístico\n",
        "\n",
        "## Objetivo de la práctica\n",
        "- Comprender los componentes del modelo vectorial mediante cálculos manuales y observación directa.\n",
        "- Aplicar el modelo de espacio vectorial con TF-IDF para recuperar documentos relevantes.\n",
        "- Comparar la recuperación con BM25 frente a TF-IDF.\n",
        "- Analizar visualmente las diferencias entre los modelos.\n",
        "- Evaluar si los rankings generados son consistentes con lo que considerarías documentos relevantes."
      ]
    },
    {
      "cell_type": "markdown",
      "id": "93bafe7a6a4ef9e5",
      "metadata": {
        "id": "93bafe7a6a4ef9e5"
      },
      "source": [
        "## Parte 0: Carga del Corpus"
      ]
    },
    {
      "cell_type": "code",
      "execution_count": 33,
      "id": "ad08bb8bd43ae327",
      "metadata": {
        "id": "ad08bb8bd43ae327"
      },
      "outputs": [],
      "source": [
        "from sklearn.datasets import fetch_20newsgroups\n",
        "\n",
        "newsgroups = fetch_20newsgroups(subset='all', remove=('headers', 'footers', 'quotes'))\n",
        "corpus = newsgroups.data\n",
        "target = newsgroups.target\n",
        "target_names = newsgroups.target_names"
      ]
    },
    {
      "cell_type": "markdown",
      "source": [
        "## Normalización"
      ],
      "metadata": {
        "id": "KB3fS0sWtXw6"
      },
      "id": "KB3fS0sWtXw6"
    },
    {
      "cell_type": "code",
      "source": [
        "import nltk\n",
        "nltk.download('punkt_tab') # para tokenizar el texto en palabras.\n",
        "nltk.download('stopwords') # para eliminar palabras vacías como “the”, “and”, “is”, etc."
      ],
      "metadata": {
        "colab": {
          "base_uri": "https://localhost:8080/"
        },
        "id": "yEKjD3MytckD",
        "outputId": "13d29737-4232-409b-979a-1dbad1953bfa"
      },
      "id": "yEKjD3MytckD",
      "execution_count": 18,
      "outputs": [
        {
          "output_type": "stream",
          "name": "stderr",
          "text": [
            "[nltk_data] Downloading package punkt_tab to /root/nltk_data...\n",
            "[nltk_data]   Package punkt_tab is already up-to-date!\n",
            "[nltk_data] Downloading package stopwords to /root/nltk_data...\n",
            "[nltk_data]   Package stopwords is already up-to-date!\n"
          ]
        },
        {
          "output_type": "execute_result",
          "data": {
            "text/plain": [
              "True"
            ]
          },
          "metadata": {},
          "execution_count": 18
        }
      ]
    },
    {
      "cell_type": "code",
      "source": [
        "import re\n",
        "import nltk\n",
        "from nltk.corpus import stopwords\n",
        "from nltk.tokenize import word_tokenize\n",
        "\n",
        "\n",
        "stop_words = set(stopwords.words('english'))\n",
        "\n",
        "def normalizar(texto):\n",
        "    texto = texto.lower()  # minúsculas\n",
        "    texto = re.sub(r'\\d+', '', texto)  # eliminar números\n",
        "    texto = re.sub(r'[^\\w\\s]', '', texto)  # eliminar puntuación\n",
        "    tokens = word_tokenize(texto)\n",
        "    tokens = [t for t in tokens if t not in stop_words and len(t) > 2]\n",
        "    return ' '.join(tokens)\n",
        "\n",
        "# Aplicar al corpus\n",
        "corpus_n = [normalizar(doc) for doc in corpus]"
      ],
      "metadata": {
        "id": "mQn5SCTTtlCF"
      },
      "id": "mQn5SCTTtlCF",
      "execution_count": 19,
      "outputs": []
    },
    {
      "cell_type": "markdown",
      "id": "10f8c7f78934f497",
      "metadata": {
        "id": "10f8c7f78934f497"
      },
      "source": [
        "## Parte 1: Cálculo de TF, DF, IDF y TF-IDF\n",
        "\n",
        "### Actividad\n",
        "1. Utiliza el corpus cargado.\n",
        "2. Construye la matriz de términos (TF), y calcula la frecuencia de documentos (DF)\n",
        "3. Calcula TF-IDF utilizando sklearn.\n",
        "4. Visualiza los valores en un DataFrame para analizar las diferencias entre los términos."
      ]
    },
    {
      "cell_type": "code",
      "execution_count": 20,
      "id": "d2ebd9f1c1b6c787",
      "metadata": {
        "id": "d2ebd9f1c1b6c787"
      },
      "outputs": [],
      "source": [
        "from sklearn.feature_extraction.text import CountVectorizer, TfidfVectorizer\n",
        "import pandas as pd"
      ]
    },
    {
      "cell_type": "markdown",
      "source": [
        "### Matriz TF, y cálculo de la frecuencia de documentos DF"
      ],
      "metadata": {
        "id": "oJvwqBMx0-ZI"
      },
      "id": "oJvwqBMx0-ZI"
    },
    {
      "cell_type": "code",
      "source": [
        "# Crear matriz de frecuencia de términos\n",
        "count_vect = CountVectorizer()\n",
        "X_counts = count_vect.fit_transform(corpus_n)\n",
        "print(f\"Shape de la matriz de términos: {X_counts.shape}\")\n",
        "\n",
        "# Obtener nombres de términos\n",
        "terms = count_vect.get_feature_names_out()\n",
        "\n",
        "# Convertir a DataFrame (TF)\n",
        "tf= pd.DataFrame(X_counts.toarray(), columns=terms)\n",
        "print(tf)"
      ],
      "metadata": {
        "colab": {
          "base_uri": "https://localhost:8080/"
        },
        "id": "x_NZ56bW1HBQ",
        "outputId": "6f9f6f0b-d8d9-49bf-ec05-db4a28aca848"
      },
      "id": "x_NZ56bW1HBQ",
      "execution_count": 22,
      "outputs": [
        {
          "output_type": "stream",
          "name": "stdout",
          "text": [
            "Shape de la matriz de términos: (18846, 122066)\n",
            "       ___  ____  _____  ______  _______  ________  _________  __________  \\\n",
            "0        0     0      0       0        0         0          0           0   \n",
            "1        0     0      0       0        0         0          0           0   \n",
            "2        0     0      0       0        0         0          0           0   \n",
            "3        0     0      0       0        0         0          0           0   \n",
            "4        0     0      0       0        0         0          0           0   \n",
            "...    ...   ...    ...     ...      ...       ...        ...         ...   \n",
            "18841    0     0      0       0        0         0          0           0   \n",
            "18842    0     0      0       0        0         0          0           0   \n",
            "18843    0     0      0       0        0         0          0           0   \n",
            "18844    0     0      0       0        0         0          0           0   \n",
            "18845    0     0      0       0        0         0          0           0   \n",
            "\n",
            "       ___________  ____________  ...  zyxelb  zzc  zzip  zztvtznth  \\\n",
            "0                0             0  ...       0    0     0          0   \n",
            "1                0             0  ...       0    0     0          0   \n",
            "2                0             0  ...       0    0     0          0   \n",
            "3                0             0  ...       0    0     0          0   \n",
            "4                0             0  ...       0    0     0          0   \n",
            "...            ...           ...  ...     ...  ...   ...        ...   \n",
            "18841            0             0  ...       0    0     0          0   \n",
            "18842            0             0  ...       0    0     0          0   \n",
            "18843            0             0  ...       0    0     0          0   \n",
            "18844            0             0  ...       0    0     0          0   \n",
            "18845            0             0  ...       0    0     0          0   \n",
            "\n",
            "       zzyhcnafb_o  zzzs  zzzzzz  zzzzzzt  µsec  ÿhooked  \n",
            "0                0     0       0        0     0        0  \n",
            "1                0     0       0        0     0        0  \n",
            "2                0     0       0        0     0        0  \n",
            "3                0     0       0        0     0        0  \n",
            "4                0     0       0        0     0        0  \n",
            "...            ...   ...     ...      ...   ...      ...  \n",
            "18841            0     0       0        0     0        0  \n",
            "18842            0     0       0        0     0        0  \n",
            "18843            0     0       0        0     0        0  \n",
            "18844            0     0       0        0     0        0  \n",
            "18845            0     0       0        0     0        0  \n",
            "\n",
            "[18846 rows x 122066 columns]\n"
          ]
        }
      ]
    },
    {
      "cell_type": "code",
      "source": [
        "# Calcular DF (cuántos documentos contienen cada término)\n",
        "df_series = (X_counts > 0).sum(axis=0).A1  # A1 convierte a arreglo plano\n",
        "df= pd.DataFrame({'term': terms, 'df': df_series})\n",
        "print(df)"
      ],
      "metadata": {
        "colab": {
          "base_uri": "https://localhost:8080/"
        },
        "id": "Xwd-5PHi6Oh8",
        "outputId": "bfebfc18-5806-4c7f-e33b-3b4ad0de58c6"
      },
      "id": "Xwd-5PHi6Oh8",
      "execution_count": 23,
      "outputs": [
        {
          "output_type": "stream",
          "name": "stdout",
          "text": [
            "           term  df\n",
            "0           ___  67\n",
            "1          ____  48\n",
            "2         _____  42\n",
            "3        ______  26\n",
            "4       _______  35\n",
            "...         ...  ..\n",
            "122061     zzzs   1\n",
            "122062   zzzzzz   1\n",
            "122063  zzzzzzt   1\n",
            "122064     µsec   1\n",
            "122065  ÿhooked   1\n",
            "\n",
            "[122066 rows x 2 columns]\n"
          ]
        }
      ]
    },
    {
      "cell_type": "markdown",
      "source": [
        "### Calcular TF-IDF"
      ],
      "metadata": {
        "id": "Q9Q0sSYFx8gi"
      },
      "id": "Q9Q0sSYFx8gi"
    },
    {
      "cell_type": "code",
      "source": [
        "vectorizer = TfidfVectorizer()\n",
        "corpus_vect = vectorizer.fit_transform(corpus_n)\n",
        "print(f\"Shape del TF-IDF matrix: {corpus_vect.shape}\")"
      ],
      "metadata": {
        "colab": {
          "base_uri": "https://localhost:8080/"
        },
        "id": "dW-JHTWtv1RY",
        "outputId": "833a4333-0750-4c05-bae4-6650d9d99cb2"
      },
      "id": "dW-JHTWtv1RY",
      "execution_count": 24,
      "outputs": [
        {
          "output_type": "stream",
          "name": "stdout",
          "text": [
            "Shape del TF-IDF matrix: (18846, 122066)\n"
          ]
        }
      ]
    },
    {
      "cell_type": "code",
      "source": [
        "terms = vectorizer.get_feature_names_out()\n",
        "tfidf = pd.DataFrame(corpus_vect.toarray(), columns=terms)\n",
        "print(tfidf)"
      ],
      "metadata": {
        "colab": {
          "base_uri": "https://localhost:8080/"
        },
        "id": "Wy_63iw3wdGd",
        "outputId": "74c8605f-baa5-455a-dff1-3da7dc51cceb"
      },
      "id": "Wy_63iw3wdGd",
      "execution_count": 26,
      "outputs": [
        {
          "output_type": "stream",
          "name": "stdout",
          "text": [
            "       ___  ____  _____  ______  _______  ________  _________  __________  \\\n",
            "0      0.0   0.0    0.0     0.0      0.0       0.0        0.0         0.0   \n",
            "1      0.0   0.0    0.0     0.0      0.0       0.0        0.0         0.0   \n",
            "2      0.0   0.0    0.0     0.0      0.0       0.0        0.0         0.0   \n",
            "3      0.0   0.0    0.0     0.0      0.0       0.0        0.0         0.0   \n",
            "4      0.0   0.0    0.0     0.0      0.0       0.0        0.0         0.0   \n",
            "...    ...   ...    ...     ...      ...       ...        ...         ...   \n",
            "18841  0.0   0.0    0.0     0.0      0.0       0.0        0.0         0.0   \n",
            "18842  0.0   0.0    0.0     0.0      0.0       0.0        0.0         0.0   \n",
            "18843  0.0   0.0    0.0     0.0      0.0       0.0        0.0         0.0   \n",
            "18844  0.0   0.0    0.0     0.0      0.0       0.0        0.0         0.0   \n",
            "18845  0.0   0.0    0.0     0.0      0.0       0.0        0.0         0.0   \n",
            "\n",
            "       ___________  ____________  ...  zyxelb  zzc  zzip  zztvtznth  \\\n",
            "0              0.0           0.0  ...     0.0  0.0   0.0        0.0   \n",
            "1              0.0           0.0  ...     0.0  0.0   0.0        0.0   \n",
            "2              0.0           0.0  ...     0.0  0.0   0.0        0.0   \n",
            "3              0.0           0.0  ...     0.0  0.0   0.0        0.0   \n",
            "4              0.0           0.0  ...     0.0  0.0   0.0        0.0   \n",
            "...            ...           ...  ...     ...  ...   ...        ...   \n",
            "18841          0.0           0.0  ...     0.0  0.0   0.0        0.0   \n",
            "18842          0.0           0.0  ...     0.0  0.0   0.0        0.0   \n",
            "18843          0.0           0.0  ...     0.0  0.0   0.0        0.0   \n",
            "18844          0.0           0.0  ...     0.0  0.0   0.0        0.0   \n",
            "18845          0.0           0.0  ...     0.0  0.0   0.0        0.0   \n",
            "\n",
            "       zzyhcnafb_o  zzzs  zzzzzz  zzzzzzt  µsec  ÿhooked  \n",
            "0              0.0   0.0     0.0      0.0   0.0      0.0  \n",
            "1              0.0   0.0     0.0      0.0   0.0      0.0  \n",
            "2              0.0   0.0     0.0      0.0   0.0      0.0  \n",
            "3              0.0   0.0     0.0      0.0   0.0      0.0  \n",
            "4              0.0   0.0     0.0      0.0   0.0      0.0  \n",
            "...            ...   ...     ...      ...   ...      ...  \n",
            "18841          0.0   0.0     0.0      0.0   0.0      0.0  \n",
            "18842          0.0   0.0     0.0      0.0   0.0      0.0  \n",
            "18843          0.0   0.0     0.0      0.0   0.0      0.0  \n",
            "18844          0.0   0.0     0.0      0.0   0.0      0.0  \n",
            "18845          0.0   0.0     0.0      0.0   0.0      0.0  \n",
            "\n",
            "[18846 rows x 122066 columns]\n"
          ]
        }
      ]
    },
    {
      "cell_type": "markdown",
      "source": [
        "### Visualizar y analizar"
      ],
      "metadata": {
        "id": "WVwdbmrSyrJU"
      },
      "id": "WVwdbmrSyrJU"
    },
    {
      "cell_type": "code",
      "source": [
        "top_df = df.sort_values(by='df', ascending=False).head(10)\n",
        "print(\"Top 10 términos por DF:\")\n",
        "print(top_df)\n"
      ],
      "metadata": {
        "colab": {
          "base_uri": "https://localhost:8080/"
        },
        "id": "AfsgNsJvx_uP",
        "outputId": "ec4993b4-ea8d-4d5a-d74b-5d8b6cb83b62"
      },
      "id": "AfsgNsJvx_uP",
      "execution_count": 27,
      "outputs": [
        {
          "output_type": "stream",
          "name": "stdout",
          "text": [
            "Top 10 términos por DF:\n",
            "          term    df\n",
            "118309   would  5259\n",
            "80782      one  5109\n",
            "52704     like  4166\n",
            "26551     dont  3889\n",
            "50176     know  3784\n",
            "36854      get  3625\n",
            "3902      also  3229\n",
            "108136   think  3127\n",
            "84169   people  2941\n",
            "108733    time  2848\n"
          ]
        }
      ]
    },
    {
      "cell_type": "code",
      "source": [
        "print(\"TF-IDF del documento 0:\")\n",
        "print(tfidf.iloc[0].sort_values(ascending=False).head(10))\n"
      ],
      "metadata": {
        "colab": {
          "base_uri": "https://localhost:8080/"
        },
        "id": "M5zbXJgPyYla",
        "outputId": "df3db2e9-b68f-4f89-ea9a-be1d781f3b09"
      },
      "id": "M5zbXJgPyYla",
      "execution_count": 28,
      "outputs": [
        {
          "output_type": "stream",
          "name": "stdout",
          "text": [
            "TF-IDF del documento 0:\n",
            "pens                0.548236\n",
            "jagr                0.250831\n",
            "devils              0.216622\n",
            "bit                 0.193723\n",
            "fun                 0.185855\n",
            "regular             0.179938\n",
            "season              0.173826\n",
            "nonpittsburghers    0.169476\n",
            "bashers             0.151134\n",
            "pulp                0.151134\n",
            "Name: 0, dtype: float64\n"
          ]
        }
      ]
    },
    {
      "cell_type": "markdown",
      "id": "64491bce5361e8b3",
      "metadata": {
        "id": "64491bce5361e8b3"
      },
      "source": [
        "## Parte 2: Ranking de documentos usando TF-IDF\n",
        "\n",
        "### Actividad\n",
        "\n",
        "1. Dada una consulta, construye el vector de consulta\n",
        "2. Calcula la similitud coseno entre la consulta y cada documento usando los vectores TF-IDF\n",
        "3. Genera un ranking de los documentos ordenados por relevancia.\n",
        "4. Muestra los resultados en una tabla."
      ]
    },
    {
      "cell_type": "markdown",
      "source": [
        "## Crear el vector consulta"
      ],
      "metadata": {
        "id": "va6BEzxN7lPE"
      },
      "id": "va6BEzxN7lPE"
    },
    {
      "cell_type": "code",
      "source": [
        "query = \"Jersey\""
      ],
      "metadata": {
        "id": "lzHrmVuj7pN9"
      },
      "id": "lzHrmVuj7pN9",
      "execution_count": 29,
      "outputs": []
    },
    {
      "cell_type": "code",
      "source": [
        "query_vect = vectorizer.transform([query])\n",
        "print(query_vect)"
      ],
      "metadata": {
        "colab": {
          "base_uri": "https://localhost:8080/"
        },
        "id": "rjv_3E407vLb",
        "outputId": "e79a6bd4-19cd-43ae-eda6-91aa18af23ef"
      },
      "id": "rjv_3E407vLb",
      "execution_count": 30,
      "outputs": [
        {
          "output_type": "stream",
          "name": "stdout",
          "text": [
            "<Compressed Sparse Row sparse matrix of dtype 'float64'\n",
            "\twith 1 stored elements and shape (1, 122066)>\n",
            "  Coords\tValues\n",
            "  (0, 47705)\t1.0\n"
          ]
        }
      ]
    },
    {
      "cell_type": "markdown",
      "source": [
        "### Calcular la similitud coseno"
      ],
      "metadata": {
        "id": "fHCnc0oW76b9"
      },
      "id": "fHCnc0oW76b9"
    },
    {
      "cell_type": "code",
      "source": [
        "from sklearn.metrics.pairwise import cosine_similarity\n",
        "similitudes = cosine_similarity(query_vect, corpus_vect).flatten()\n",
        "print(similitudes)"
      ],
      "metadata": {
        "colab": {
          "base_uri": "https://localhost:8080/"
        },
        "id": "I3izZxqt7-wW",
        "outputId": "1bd25e91-828d-4189-897a-ea1da0c4ddba"
      },
      "id": "I3izZxqt7-wW",
      "execution_count": 32,
      "outputs": [
        {
          "output_type": "stream",
          "name": "stdout",
          "text": [
            "[0.10988072 0.         0.         ... 0.         0.         0.        ]\n"
          ]
        }
      ]
    },
    {
      "cell_type": "markdown",
      "source": [
        "### Generar el ranking y mostrar tabla"
      ],
      "metadata": {
        "id": "vL0tn_t28xI0"
      },
      "id": "vL0tn_t28xI0"
    },
    {
      "cell_type": "code",
      "source": [
        "# Crear ranking con índices de documentos más similares\n",
        "ranking_indices = similitudes.argsort()[::-1]\n",
        "\n",
        "# Construir tabla de resultados\n",
        "top_n = 10\n",
        "resultados = pd.DataFrame({\n",
        "    'Ranking': range(1, top_n + 1),\n",
        "    'Documento (preview)': [corpus_n[i][:150].replace('\\n', ' ') + '...' for i in ranking_indices[:top_n]],\n",
        "    'Similitud coseno': [similitudes[i] for i in ranking_indices[:top_n]],\n",
        "    'Categoría': [target_names[target[i]] for i in ranking_indices[:top_n]]\n",
        "})\n",
        "\n",
        "print(resultados)\n"
      ],
      "metadata": {
        "colab": {
          "base_uri": "https://localhost:8080/"
        },
        "id": "8C6MdN2K8vtj",
        "outputId": "5e9d5c1a-5bc3-42b4-e78b-69888dd6c5b0"
      },
      "id": "8C6MdN2K8vtj",
      "execution_count": 35,
      "outputs": [
        {
          "output_type": "stream",
          "name": "stdout",
          "text": [
            "   Ranking                                Documento (preview)  \\\n",
            "0        1                            glassboro new jersey...   \n",
            "1        2  help stuck computer new jersey access radio co...   \n",
            "2        3  thanks replied initial question ive away new j...   \n",
            "3        4  anyone know find modem comm software apple iie...   \n",
            "4        5  cds sale jon bon jovi new jersey boomerang sou...   \n",
            "5        6  dont forget paul ysebaert exdevil hes good tea...   \n",
            "6        7  boston ottawa first period boston roberts june...   \n",
            "7        8  mention thread selling someones wife guy there...   \n",
            "8        9  went mess new jersey still waiting refund well...   \n",
            "9       10  heardperhaps incorrectly lemieux noone wore je...   \n",
            "\n",
            "   Similitud coseno         Categoría  \n",
            "0          0.526563   rec.motorcycles  \n",
            "1          0.313241  rec.sport.hockey  \n",
            "2          0.287470           sci.med  \n",
            "3          0.262237   sci.electronics  \n",
            "4          0.261063      misc.forsale  \n",
            "5          0.257928  rec.sport.hockey  \n",
            "6          0.230702  rec.sport.hockey  \n",
            "7          0.208787      misc.forsale  \n",
            "8          0.208764         rec.autos  \n",
            "9          0.205492  rec.sport.hockey  \n"
          ]
        }
      ]
    },
    {
      "cell_type": "markdown",
      "id": "97061325508dc5f2",
      "metadata": {
        "id": "97061325508dc5f2"
      },
      "source": [
        "## Parte 3: Ranking con BM25\n",
        "\n",
        "### Actividad\n",
        "\n",
        "1. Implementa un sistema de recuperación usando el modelo BM25.\n",
        "2. Usa la misma consulta del ejercicio anterior.\n",
        "3. Calcula el score BM25 para cada documento y genera un ranking.\n",
        "4. Compara manualmente con el ranking de TF-IDF."
      ]
    },
    {
      "cell_type": "markdown",
      "id": "2c71b85e77b4b181",
      "metadata": {
        "id": "2c71b85e77b4b181"
      },
      "source": [
        "## Parte 4: Comparación visual entre TF-IDF y BM25\n",
        "\n",
        "### Actividad\n",
        "\n",
        "1. Utiliza un gráfico de barras para visualizar los scores obtenidos por cada documento según TF-IDF y BM25.\n",
        "2. Compara los rankings visualmente.\n",
        "3. Identifica: ¿Qué documentos obtienen scores más altos en un modelo que en otro?\n",
        "4. Sugiere: ¿A qué se podría deber esta diferencia?"
      ]
    },
    {
      "cell_type": "markdown",
      "id": "b97d171655ecfb",
      "metadata": {
        "id": "b97d171655ecfb"
      },
      "source": [
        "## Parte 5: Evaluación con consulta relevante\n",
        "\n",
        "### Actividad\n",
        "\n",
        "1. Elige una consulta y define qué documentos del corpus deberían considerarse relevantes.\n",
        "2. Evalúa Precision@3 o MAP para los rankings generados con TF-IDF y BM25.\n",
        "3. Responde: ¿Cuál modelo da mejores resultados respecto a tu criterio de relevancia?"
      ]
    }
  ],
  "metadata": {
    "colab": {
      "provenance": [],
      "gpuType": "T4"
    },
    "kernelspec": {
      "display_name": "Python 3",
      "name": "python3"
    },
    "language_info": {
      "codemirror_mode": {
        "name": "ipython",
        "version": 2
      },
      "file_extension": ".py",
      "mimetype": "text/x-python",
      "name": "python",
      "nbconvert_exporter": "python",
      "pygments_lexer": "ipython2",
      "version": "2.7.6"
    }
  },
  "nbformat": 4,
  "nbformat_minor": 5
}