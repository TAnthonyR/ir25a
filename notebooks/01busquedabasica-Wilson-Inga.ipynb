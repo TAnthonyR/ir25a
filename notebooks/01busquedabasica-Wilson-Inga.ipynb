{
 "cells": [
  {
   "cell_type": "markdown",
   "id": "20980d198e5f991c",
   "metadata": {},
   "source": [
    "Nombre: Wilson Inga \n",
    "\n",
    "# Ejercicio 1: Introducción a Recuperación de Información\n",
    "\n",
    "## Objetivo de la práctica\n",
    "- Entender el problema de **buscar información** en colecciones de texto.\n",
    "- Comprender por qué se necesita un **índice invertido** en recuperación de información.\n",
    "- Programar una primera solución manual y luego optimizarla con un índice.\n",
    "- Evaluar la mejora en tiempos de búsqueda cuando usamos estructuras adecuadas."
   ]
  },
  {
   "cell_type": "markdown",
   "id": "175182ac2f1f542c",
   "metadata": {},
   "source": [
    "## Parte 1: Búsqueda lineal en documentos\n",
    "\n",
    "### Actividad\n",
    "1. Se te proporcionará un conjunto de documentos de texto.\n",
    "2. Escribe una función que:\n",
    "   - Lea todos los documentos.\n",
    "   - Busque una palabra ingresada por el usuario.\n",
    "   - Muestre en qué documentos aparece la palabra."
   ]
  },
  {
   "cell_type": "code",
   "execution_count": null,
   "id": "d92c283c",
   "metadata": {},
   "outputs": [
    {
     "name": "stdout",
     "output_type": "stream",
     "text": [
      "Buscando 'feriado' en el documento 'c:/Users/wil_s/Documentos/GitHub/2025A/ir25a/data/01_corpus_turismo.txt'\n",
      "\n",
      "Encontrada en la línea 12: En el feriado, muchos ecuatorianos visitan la Amazonía para conocer comunidades indígenas y cascadas.\n",
      "Encontrada en la línea 14: Los turistas disfrutan en el feriado de las fiestas locales y de la gastronomía típica de cada región.\n",
      "Encontrada en la línea 16: Montañita se llena de surfistas y viajeros jóvenes durante los feriados nacionales.\n",
      "\n",
      "Total de ocurrencias: 3\n",
      "Líneas: 12, 14, 16\n"
     ]
    }
   ],
   "source": [
    "def resultados(documento, query):\n",
    " \n",
    "    print(f\"Buscando '{query}' en el documento '{documento}'\\n\")\n",
    "    resultados = []\n",
    "    # Abrir el archivo en modo lectura\n",
    "    with open(documento, 'r', encoding='utf-8') as file:\n",
    "        for indice, linea in enumerate(file, 1): \n",
    "            if query in linea:\n",
    "                resultados.append(indice)\n",
    "                print(f\"Encontrada en la linea {indice}: {linea.strip()}\")\n",
    "    # Cerrar el archivo\n",
    "    if resultados:\n",
    "        print(f\"\\nTotal de ocurrencias: {len(resultados)}\")\n",
    "    else:\n",
    "        print(f\"La palabra '{query}' no se encontró en el archivo.\")\n",
    "    # Devolver la lista de resultados\n",
    "    return resultados\n",
    "\n",
    "# Definir la dirección del archivo y la palabra a buscar\n",
    "direccion = 'c:/Users/wil_s/Documentos/GitHub/2025A/ir25a/data/01_corpus_turismo.txt'\n",
    "query = 'feriado'\n",
    "busquedaPalabra = resultados(direccion, query)"
   ]
  },
  {
   "cell_type": "markdown",
   "id": "57c9797b0bf7f4bb",
   "metadata": {},
   "source": [
    "## Parte 2: Construcción de un índice invertido\n",
    "\n",
    "### Actividad\n",
    "1. Escribe un programa que:\n",
    "   - Recorra todos los documentos.\n",
    "   - Construya un **índice invertido**, es decir, un diccionario donde:\n",
    "     - Cada palabra clave apunta a una lista de documentos donde aparece.\n",
    "\n",
    "2. Escribe una nueva función de búsqueda que:\n",
    "   - Consulte directamente el índice para encontrar los documentos relevantes.\n",
    "   - Sea mucho más rápida que la búsqueda lineal."
   ]
  },
  {
   "cell_type": "code",
   "execution_count": 42,
   "id": "34e7a4522b06d969",
   "metadata": {},
   "outputs": [
    {
     "name": "stdout",
     "output_type": "stream",
     "text": [
      "Creando índice invertido para el archivo 'c:/Users/wil_s/Documentos/GitHub/2025A/ir25a/data/01_corpus_turismo.txt'...\n",
      "\n",
      "'turismo' aparece en las siguientes líneas: 1\n"
     ]
    }
   ],
   "source": [
    "from collections import defaultdict\n",
    "\n",
    "def indiceInvertido(archivo):\n",
    " # Crear un índice invertido a partir del archivo de texto\n",
    "    print(f\"Creando índice invertido para el archivo '{archivo}'...\\n\")\n",
    "    indice = defaultdict(list)\n",
    "    \n",
    "    with open(archivo, 'r', encoding='utf-8') as f:\n",
    "        for num_linea, linea in enumerate(f, 1):\n",
    "            palabras = set(palabra.strip('.,!?\"()') for palabra in linea.split())\n",
    "            for palabra in palabras:\n",
    "                if palabra:\n",
    "                    indice[palabra].append(num_linea)\n",
    "    return indice\n",
    "\n",
    "def busquedaPalabra(indice, palabras_a_buscar):\n",
    "\n",
    "    if not indice:\n",
    "        print(\"No se puede realizar la búsqueda: índice no disponible\")\n",
    "        return\n",
    "\n",
    "    for palabra in palabras_a_buscar:\n",
    "        lineas = indice.get(palabra, [])\n",
    "        if lineas:\n",
    "            print(f\"'{palabra}' aparece en las siguientes líneas: {', '.join(map(str, lineas))}\")\n",
    "        else:\n",
    "            print(f\"'{palabra}' no encontrada en el archivo\")\n",
    "\n",
    "\n",
    "archivo = 'c:/Users/wil_s/Documentos/GitHub/2025A/ir25a/data/01_corpus_turismo.txt'\n",
    "palabras_a_buscar = ['turismo']\n",
    "\n",
    "indice = indiceInvertido(archivo)\n",
    "busquedaPalabra(indice, palabras_a_buscar)"
   ]
  },
  {
   "cell_type": "markdown",
   "id": "3f311d0944a2f98d",
   "metadata": {},
   "source": [
    "## Parte 3: Evaluación de tiempos de búsqueda\n",
    "### Actividad\n",
    "\n",
    "1. Realiza la búsqueda de varias palabras usando:\n",
    "      -  Corpus pequeño: 16 documentos (turismo en Ecuador).\n",
    "      -  Corpus grande: 500 documentos (versión ampliada).\n",
    "2. Mide el tiempo de ejecución:\n",
    "      -  Para búsqueda lineal.\n",
    "      -  Para búsqueda usando índice invertido.\n",
    "      -  Grafica o presenta los resultados en una tabla comparativa.\n",
    "\n",
    "### Ejemplo de palabras para buscar\n",
    "- quito\n",
    "- montañita\n",
    "- feriado\n",
    "- playas\n",
    "- aventura\n",
    "- galápagos"
   ]
  },
  {
   "cell_type": "code",
   "execution_count": null,
   "id": "15211fcaadfeb175",
   "metadata": {},
   "outputs": [],
   "source": []
  },
  {
   "cell_type": "markdown",
   "id": "93a841af5ef64dd7",
   "metadata": {},
   "source": [
    "## Parte 4:\n",
    "### Actividad\n",
    "1. Modifica el índice para que ignore mayúsculas/minúsculas (por ejemplo, \"Playa\" y \"playa\" deben considerarse iguales).\n",
    "2. Permite consultas de múltiples términos (ejemplo: buscar documentos que contengan \"playa\" y \"turismo\").\n",
    "3. Calcula el _speedup_"
   ]
  },
  {
   "cell_type": "code",
   "execution_count": null,
   "id": "66741cbd7ba00bb6",
   "metadata": {},
   "outputs": [],
   "source": []
  }
 ],
 "metadata": {
  "kernelspec": {
   "display_name": "Python 3",
   "language": "python",
   "name": "python3"
  },
  "language_info": {
   "codemirror_mode": {
    "name": "ipython",
    "version": 3
   },
   "file_extension": ".py",
   "mimetype": "text/x-python",
   "name": "python",
   "nbconvert_exporter": "python",
   "pygments_lexer": "ipython3",
   "version": "3.12.4"
  }
 },
 "nbformat": 4,
 "nbformat_minor": 5
}
